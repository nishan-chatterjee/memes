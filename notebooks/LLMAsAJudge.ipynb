{
 "cells": [
  {
   "cell_type": "code",
   "execution_count": null,
   "metadata": {},
   "outputs": [],
   "source": [
    "from openai import OpenAI\n",
    "from collections import Counter\n",
    "from natsort import natsorted\n",
    "import requests\n",
    "from requests.exceptions import Timeout, RequestException\n",
    "\n",
    "model_name = \"qwen2.5:72b\"\n",
    "client = OpenAI(\n",
    "    base_url='http://kt-gpu5.ijs.si:11435/v1',\n",
    "    api_key='ollama',  # required, but unused\n",
    ")\n",
    "\n",
    "def create_chat_completions(model_name, message, timeout=100):\n",
    "    try:\n",
    "        response = client.chat.completions.create(\n",
    "            model=model_name,\n",
    "            messages=[\n",
    "                {\"role\": \"system\", \"content\": \"You are a helpful assistant.\"},\n",
    "                {\"role\": \"user\", \"content\": message},\n",
    "            ],\n",
    "            timeout=timeout\n",
    "        )\n",
    "        return response.choices[0].message.content\n",
    "    except Timeout:\n",
    "        return None\n",
    "    except RequestException as e:\n",
    "        return None"
   ]
  },
  {
   "cell_type": "code",
   "execution_count": null,
   "metadata": {},
   "outputs": [],
   "source": [
    "annotator_message = f\"\"\"You are an expert linguist helping to identify multi-word expressions (MWEs) in a large corpus. A multi-word expression is a sequence of words that form a single unit of meaning and cannot be easily deduced by the meanings of individual words.\n",
    "\n",
    "Here is the information about a potential MWE:\n",
    "\n",
    "**Candidate Phrase:** \"{n-gram}\"  \n",
    "**PMI Score:** {PMI_score}  \n",
    "**Frequency in Corpus:** {frequency}\n",
    "\n",
    "### Known MWEs for Reference:\n",
    "- \"{known_mwe_1}\"\n",
    "- \"{known_mwe_2}\"\n",
    "- \"{known_mwe_3}\"\n",
    "\n",
    "### Example Sentences:\n",
    "1. \"{sentence_1}\"\n",
    "2. \"{sentence_2}\"\n",
    "3. \"{sentence_3}\"\n",
    "\n",
    "**Questions:**\n",
    "1. Does the candidate phrase overlap in meaning or structure with any known MWEs? If so, which one(s)?\n",
    "2. Could this phrase be considered a new variation or extension of an existing MWE? Why?\n",
    "3. If it is novel, does it demonstrate properties of an MWE such as idiomaticity or collocational fixedness?\n",
    "4. How likely is it that this expression is becoming a trend in social media language? Rate this likelihood on a scale from 1-5.\n",
    "5. Based on the given information, would you classify this candidate as:\n",
    "   - A novel MWE\n",
    "   - A variation of an existing MWE\n",
    "   - Not an MWE\n",
    "\n",
    "Explain your decision with examples and reasoning.\n",
    "\"\"\"\n",
    "\n",
    "judge_message = f\"\"\"You are a judge evaluating the response of a linguist who has classified a multi-word expression (MWE) in a large corpus. Based on that, can you provide a label for the candidate phrase from the following options: [\"novel MWE\", \"variation of an existing MWE\", \"not an MWE\"]? Please provide only the label without any additional information.\"\"\""
   ]
  }
 ],
 "metadata": {
  "kernelspec": {
   "display_name": "emma",
   "language": "python",
   "name": "python3"
  },
  "language_info": {
   "name": "python",
   "version": "3.12.7"
  }
 },
 "nbformat": 4,
 "nbformat_minor": 2
}

{
 "cells": [
  {
   "cell_type": "code",
   "execution_count": null,
   "metadata": {},
   "outputs": [],
   "source": [
    "from openai import OpenAI\n",
    "from collections import Counter\n",
    "from natsort import natsorted\n",
    "import requests\n",
    "from requests.exceptions import Timeout, RequestException\n",
    "\n",
    "model_name = \"qwen2.5:72b\"\n",
    "client = OpenAI(\n",
    "    base_url='http://kt-gpu5.ijs.si:11435/v1',\n",
    "    api_key='ollama',  # required, but unused\n",
    ")\n",
    "\n",
    "def create_chat_completions(model_name, message, timeout=100):\n",
    "    try:\n",
    "        response = client.chat.completions.create(\n",
    "            model=model_name,\n",
    "            messages=[\n",
    "                {\"role\": \"system\", \"content\": \"You are a helpful assistant.\"},\n",
    "                {\"role\": \"user\", \"content\": message},\n",
    "            ],\n",
    "            timeout=timeout\n",
    "        )\n",
    "        return response.choices[0].message.content\n",
    "    except Timeout:\n",
    "        return None\n",
    "    except RequestException as e:\n",
    "        return None"
   ]
  },
  {
   "cell_type": "code",
   "execution_count": null,
   "metadata": {},
   "outputs": [],
   "source": []
  }
 ],
 "metadata": {
  "kernelspec": {
   "display_name": "emma",
   "language": "python",
   "name": "python3"
  },
  "language_info": {
   "name": "python",
   "version": "3.12.7"
  }
 },
 "nbformat": 4,
 "nbformat_minor": 2
}

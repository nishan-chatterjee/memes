{
 "cells": [
  {
   "cell_type": "markdown",
   "metadata": {},
   "source": [
    "****\n",
    "**[PARSEME 1.3 MWEs:](https://aclanthology.org/2023.mwe-1.6/)**\n",
    "****"
   ]
  },
  {
   "cell_type": "code",
   "execution_count": 1,
   "metadata": {},
   "outputs": [
    {
     "name": "stderr",
     "output_type": "stream",
     "text": [
      "Languages: 100%|██████████| 26/26 [02:40<00:00,  6.18s/it]\n"
     ]
    },
    {
     "name": "stdout",
     "output_type": "stream",
     "text": [
      "Data converted to text-mwes-language JSON format and saved to ../data/external/parseme1.3_mwes.json\n"
     ]
    }
   ],
   "source": [
    "import conllu\n",
    "import parseme.cupt as cupt\n",
    "import os\n",
    "from tqdm import tqdm\n",
    "import json\n",
    "\n",
    "def load_parseme_corpus(path, split=\"all\"):\n",
    "    if split == \"all\":\n",
    "        languages = [lang for lang in os.listdir(path) if os.path.isdir(os.path.join(path, lang))]\n",
    "    else:\n",
    "        languages = [split]\n",
    "\n",
    "    all_data = []  # Renamed to avoid conflict\n",
    "\n",
    "    for lang in tqdm(languages, desc=\"Languages\", leave=True):\n",
    "        lang_path = os.path.join(path, lang)\n",
    "\n",
    "        for split_name in [\"train\", \"test\", \"dev\"]:\n",
    "            file_path = os.path.join(lang_path, f\"{split_name}.cupt\")\n",
    "            if os.path.exists(file_path):\n",
    "                with open(file_path, \"r\", encoding=\"utf-8\") as file:\n",
    "                    file_data = file.read()  # Renamed to file_data\n",
    "                sentences = conllu.parse(file_data)\n",
    "                \n",
    "                for sentence in tqdm(sentences, desc=f\"{lang} - {split_name}\", leave=False):\n",
    "                    text = sentence.metadata[\"text\"]\n",
    "                    mwes = cupt.retrieve_mwes(sentence)\n",
    "                    mwe_list = []\n",
    "                    \n",
    "                    for mwe_id, mwe in mwes.items():\n",
    "                        if mwe.span:  # Check if the span is not empty\n",
    "                            start = min(mwe.span)\n",
    "                            end = max(mwe.span)\n",
    "                            mwe_words = [\n",
    "                                token[\"form\"]\n",
    "                                for token_id, token in enumerate(sentence, start=1)\n",
    "                                if start <= token_id <= end\n",
    "                            ]\n",
    "                            mwe_list.append(\" \".join(mwe_words))\n",
    "                    \n",
    "                    # Append each sentence as a tuple with text, mwes, and language\n",
    "                    all_data.append((text, mwe_list, lang))\n",
    "\n",
    "    return all_data  # Return combined data for all splits and languages\n",
    "\n",
    "def save_data_to_json(data, output_path):\n",
    "    # Convert the list of tuples into a list of dictionaries, including language\n",
    "    json_data = [{\"text\": text, \"mwes\": mwe_list, \"language\": lang} for text, mwe_list, lang in data]\n",
    "    \n",
    "    # Save the data to a JSON file with indentation for readability\n",
    "    with open(output_path, \"w\", encoding=\"utf-8\") as json_file:\n",
    "        json.dump(json_data, json_file, indent=4, ensure_ascii=False)\n",
    "\n",
    "# Usage (example for all languages)\n",
    "path = \"../data/external/parseme1.3\"\n",
    "parseme1_3 = load_parseme_corpus(path, split=\"all\")\n",
    "\n",
    "# Save the data to a JSON file\n",
    "output_path = \"../data/external/parseme1.3_mwes.json\"\n",
    "save_data_to_json(parseme1_3, output_path)\n",
    "print(f\"Data converted to text-mwes-language JSON format and saved to {output_path}\")"
   ]
  },
  {
   "cell_type": "code",
   "execution_count": 2,
   "metadata": {},
   "outputs": [
    {
     "name": "stdout",
     "output_type": "stream",
     "text": [
      "Statistics:\n",
      "Number of sentences in the dataset: 455629\n",
      "Total number of MWE expressions in this dataset: 127498\n",
      "Percentage of sentences with MWEs: 22.22%\n",
      "Average number of MWEs per sentence (if MWEs are present): 1.26\n",
      "Number of MWEs that don't occur as a continuous span of tokens: 14985\n"
     ]
    }
   ],
   "source": [
    "import numpy as np\n",
    "import matplotlib.pyplot as plt\n",
    "\n",
    "# Print some statistics\n",
    "print(\"Statistics:\")\n",
    "\n",
    "# calculate the number of sentences in the dataset\n",
    "print(f\"Number of sentences in the dataset: {len(parseme1_3)}\")\n",
    "\n",
    "# calculate the total number of MWE expressions in the dataset\n",
    "print(f\"Total number of MWE expressions in this dataset: {len([mwe for _, mwes, _ in parseme1_3 for mwe in mwes])}\")\n",
    "\n",
    "# calculate the percentage of sentences in the dataset with MWEs\n",
    "print(f\"Percentage of sentences with MWEs: {len([1 for _, mwes, _ in parseme1_3 if mwes]) / len(parseme1_3) * 100:.2f}%\")\n",
    "\n",
    "# calculate the average number of MWEs per sentence for sentences with MWEs\n",
    "mwe_counts = [len(mwes) for _, mwes, _ in parseme1_3 if mwes]\n",
    "print(f\"Average number of MWEs per sentence (if MWEs are present): {sum(mwe_counts) / len(mwe_counts):.2f}\")\n",
    "\n",
    "# check if MWEs occur as a continuous span of tokens\n",
    "non_contiguous_mwes = len([mwe for _, mwes, _ in parseme1_3 for mwe in mwes]) - sum(mwe in text for text, mwes, _ in parseme1_3 for mwe in mwes if mwes)\n",
    "print(f\"Number of MWEs that don't occur as a continuous span of tokens: {non_contiguous_mwes}\")"
   ]
  },
  {
   "cell_type": "code",
   "execution_count": 4,
   "metadata": {},
   "outputs": [],
   "source": [
    "# load the data from the JSON file\n",
    "import json\n",
    "\n",
    "with open(\"../data/external/parseme1.3_mwes.json\", \"r\", encoding=\"utf-8\") as file:\n",
    "    parseme1_3 = json.load(file)"
   ]
  },
  {
   "cell_type": "code",
   "execution_count": 5,
   "metadata": {},
   "outputs": [
    {
     "name": "stdout",
     "output_type": "stream",
     "text": [
      "Number of sentences in the English subset: 1114\n",
      "Number of unique English MWEs: 792\n",
      "Number of items in the English subset with MWEs not found in the text: 21\n"
     ]
    }
   ],
   "source": [
    "# load the english subset of the data\n",
    "parseme1_3_en = [item for item in parseme1_3 if item[\"language\"] == \"EN\"]\n",
    "# flatten the list of MWEs so that each sentence has one MWE\n",
    "flattened_parseme1_3_en = []\n",
    "for item in parseme1_3_en:\n",
    "    for mwe in item[\"mwes\"]:\n",
    "        flattened_parseme1_3_en.append({\"text\": item[\"text\"], \"mwe\": mwe})\n",
    "parseme1_3_en = flattened_parseme1_3_en\n",
    "# print the number of sentences (with or without MWEs) in the English subset\n",
    "print(f\"Number of sentences in the English subset: {len(parseme1_3_en)}\")\n",
    "\n",
    "# extract the unique English MWEs into a list\n",
    "unique_english_mwes = list(set(item[\"mwe\"] for item in parseme1_3_en))\n",
    "print(f\"Number of unique English MWEs: {len(unique_english_mwes)}\")\n",
    "# sanity check if the MWEs in the English subset exist in their sentences when MWEs are not empty\n",
    "flagged_items = []\n",
    "correct = []\n",
    "for item in parseme1_3_en:\n",
    "    if item[\"mwe\"]:\n",
    "        if item[\"mwe\"] not in item[\"text\"]:\n",
    "            flagged_items.append(item)\n",
    "        else:\n",
    "            correct.append(item)\n",
    "            \n",
    "print(f\"Number of items in the English subset with MWEs not found in the text: {len(flagged_items)}\")"
   ]
  },
  {
   "cell_type": "markdown",
   "metadata": {},
   "source": [
    "*There seems to be some MWEs which were tagged incorrected based on the parsing of the data. So, we replace them with the corrected versions with a simple match function:*"
   ]
  },
  {
   "cell_type": "code",
   "execution_count": 6,
   "metadata": {},
   "outputs": [
    {
     "name": "stdout",
     "output_type": "stream",
     "text": [
      "Number of sentences in the English subset: 1114\n",
      "Number of unique English MWEs: 792\n",
      "Number of items in the English subset with MWEs not found in the text: 0\n"
     ]
    }
   ],
   "source": [
    "from sentence_transformers import SentenceTransformer, util\n",
    "import re\n",
    "import torch\n",
    "import math\n",
    "\n",
    "# load a pre-trained SentenceTransformer model\n",
    "model = SentenceTransformer(\"all-MiniLM-L6-v2\")\n",
    "# load model to GPU if available\n",
    "device = torch.device(\"cuda\" if torch.cuda.is_available() else \"cpu\")\n",
    "model.to(device)\n",
    "\n",
    "# since there seems to be some mismatches based on how the MWEs were extracted and combined, we will use the model to find the most similar MWEs in the text\n",
    "def find_best_mwe_match(text, mwe):\n",
    "    # split the text into words\n",
    "    words = text.split()\n",
    "    # find n-grams in the text based on the length of the MWE: len(mwe)-5 to len(mwe)\n",
    "    # for example, if the MWE is \"take care of the fellow chickens\", then n-grams will be 1-grams to 6-grams, making sure that len(mwe)-5 is not less than 1 and len(mwe) is not more than len(words)\n",
    "    ngrams = []\n",
    "    mwe_words = len(mwe.split())\n",
    "    start = max(1, mwe_words - 5)\n",
    "    end = min(mwe_words + 1, len(words))\n",
    "\n",
    "    for n in range(start, end):\n",
    "        for i in range(len(words) - n + 1):\n",
    "            ngram = \" \".join(words[i:i + n])\n",
    "            ngrams.append(ngram)\n",
    "    # find the most similar n-gram to the MWE using the SentenceTransformer model\n",
    "    ngram_embeddings = model.encode(ngrams, convert_to_tensor=True, device=device)\n",
    "    mwe_embedding = model.encode(mwe, convert_to_tensor=True, device=device)\n",
    "    similarities = util.pytorch_cos_sim(ngram_embeddings, mwe_embedding)\n",
    "    best_match_idx = torch.argmax(similarities).item()\n",
    "    # if n-gram ends with . or , and mwe doesn't, remove the last character\n",
    "    if ngrams[best_match_idx].endswith((\".\", \",\")) and not mwe.endswith((\".\", \",\")):\n",
    "        ngrams[best_match_idx] = ngrams[best_match_idx][:-1]\n",
    "\n",
    "    # make sure that the n-gram exists in the text\n",
    "    try:\n",
    "        start_idx = text.index(ngrams[best_match_idx])\n",
    "    except ValueError:\n",
    "        return None\n",
    "    return ngrams[best_match_idx]\n",
    "\n",
    "for item in flagged_items:\n",
    "    match = find_best_mwe_match(item[\"text\"], item[\"mwe\"])\n",
    "    # replace the MWE with the best match\n",
    "    if match:\n",
    "        item[\"mwe\"] = match\n",
    "\n",
    "# create the new dataset with the corrected MWEs\n",
    "parseme1_3_en = correct + flagged_items\n",
    "# print the number of sentences (with or without MWEs) in the English subset\n",
    "print(f\"Number of sentences in the English subset: {len(parseme1_3_en)}\")\n",
    "# extract the unique English MWEs into a list\n",
    "unique_english_mwes = list(set(item[\"mwe\"] for item in parseme1_3_en))\n",
    "print(f\"Number of unique English MWEs: {len(unique_english_mwes)}\")\n",
    "# sanity check if the MWEs in the English subset exist in their sentences when MWEs are not empty\n",
    "flagged_items = []\n",
    "correct = []\n",
    "for item in parseme1_3_en:\n",
    "    if item[\"mwe\"]:\n",
    "        if item[\"mwe\"] not in item[\"text\"]:\n",
    "            flagged_items.append(item)\n",
    "        else:\n",
    "            correct.append(item)\n",
    "            \n",
    "print(f\"Number of items in the English subset with MWEs not found in the text: {len(flagged_items)}\")"
   ]
  },
  {
   "cell_type": "code",
   "execution_count": 7,
   "metadata": {},
   "outputs": [
    {
     "name": "stdout",
     "output_type": "stream",
     "text": [
      "Corrected English subset saved to ..data/external/parseme1.3_english.json\n"
     ]
    }
   ],
   "source": [
    "# add the tag source: parseme1.3 to each item in the dataset\n",
    "for item in parseme1_3_en:\n",
    "    item[\"source\"] = \"parseme1.3\"\n",
    "\n",
    "# save the corrected English subset to a JSON file\n",
    "with open(\"../data/external/parseme1.3_english.json\", \"w\", encoding=\"utf-8\") as file:\n",
    "    json.dump(parseme1_3_en, file, indent=4, ensure_ascii=False)\n",
    "\n",
    "print(\"Corrected English subset saved to ..data/external/parseme1.3_english.json\")"
   ]
  },
  {
   "cell_type": "markdown",
   "metadata": {},
   "source": [
    "****\n",
    "**[MWE-CWI MWEs:](https://aclanthology.org/2020.lrec-1.545/)**\n",
    "****"
   ]
  },
  {
   "cell_type": "code",
   "execution_count": 9,
   "metadata": {},
   "outputs": [
    {
     "name": "stdout",
     "output_type": "stream",
     "text": [
      "Total number of items in the MWE-CWI dataset: 4732\n"
     ]
    },
    {
     "data": {
      "text/html": [
       "<div>\n",
       "<style scoped>\n",
       "    .dataframe tbody tr th:only-of-type {\n",
       "        vertical-align: middle;\n",
       "    }\n",
       "\n",
       "    .dataframe tbody tr th {\n",
       "        vertical-align: top;\n",
       "    }\n",
       "\n",
       "    .dataframe thead th {\n",
       "        text-align: right;\n",
       "    }\n",
       "</style>\n",
       "<table border=\"1\" class=\"dataframe\">\n",
       "  <thead>\n",
       "    <tr style=\"text-align: right;\">\n",
       "      <th></th>\n",
       "      <th>Index</th>\n",
       "      <th>Expression</th>\n",
       "      <th>Context</th>\n",
       "      <th>Annotation</th>\n",
       "    </tr>\n",
       "  </thead>\n",
       "  <tbody>\n",
       "    <tr>\n",
       "      <th>0</th>\n",
       "      <td>0</td>\n",
       "      <td>suspicion of assisting an offender</td>\n",
       "      <td>A man and woman, both aged 28, arrested on suspicion of assisting an offender were released, without charge, on Saturday evening.</td>\n",
       "      <td>not MWE</td>\n",
       "    </tr>\n",
       "    <tr>\n",
       "      <th>1</th>\n",
       "      <td>1</td>\n",
       "      <td>authorities should annul the</td>\n",
       "      <td>Russian authorities should annul the parliamentary vote results and hold a new election, ex-Soviet leader Mikhail Gorbachev urged Wednesday as popular indignation grew over widespread reports of alleged election fraud.</td>\n",
       "      <td>not MWE</td>\n",
       "    </tr>\n",
       "    <tr>\n",
       "      <th>2</th>\n",
       "      <td>2</td>\n",
       "      <td>amnesty for illegal immigrants</td>\n",
       "      <td>#23-5 He announced his candidacy this past March with a sixteen-page open letter in which he outlined the six pillars of his campaign: amnesty for illegal immigrants, reinstatement of the military draft, a promise to serve only a single presidential term, and calls for tax reform, deficit reduction, and corporate responsibility.</td>\n",
       "      <td>not MWE but contains MWE(s)</td>\n",
       "    </tr>\n",
       "    <tr>\n",
       "      <th>3</th>\n",
       "      <td>3</td>\n",
       "      <td>reinstatement of the military draft</td>\n",
       "      <td>#23-5 He announced his candidacy this past March with a sixteen-page open letter in which he outlined the six pillars of his campaign: amnesty for illegal immigrants, reinstatement of the military draft, a promise to serve only a single presidential term, and calls for tax reform, deficit reduction, and corporate responsibility.</td>\n",
       "      <td>not MWE</td>\n",
       "    </tr>\n",
       "    <tr>\n",
       "      <th>4</th>\n",
       "      <td>4</td>\n",
       "      <td>people on board</td>\n",
       "      <td>#7-12 These include a Boeing 737 en route to Iran, which crashed shortly after take-off in 2008, killing 68 of at least 90 people on board.</td>\n",
       "      <td>not MWE but contains MWE(s)</td>\n",
       "    </tr>\n",
       "  </tbody>\n",
       "</table>\n",
       "</div>"
      ],
      "text/plain": [
       "   Index                           Expression  \\\n",
       "0      0   suspicion of assisting an offender   \n",
       "1      1         authorities should annul the   \n",
       "2      2       amnesty for illegal immigrants   \n",
       "3      3  reinstatement of the military draft   \n",
       "4      4                      people on board   \n",
       "\n",
       "                                                                                                                                                                                                                                                                                                                                      Context  \\\n",
       "0                                                                                                                                                                                                           A man and woman, both aged 28, arrested on suspicion of assisting an offender were released, without charge, on Saturday evening.   \n",
       "1                                                                                                                  Russian authorities should annul the parliamentary vote results and hold a new election, ex-Soviet leader Mikhail Gorbachev urged Wednesday as popular indignation grew over widespread reports of alleged election fraud.   \n",
       "2  #23-5 He announced his candidacy this past March with a sixteen-page open letter in which he outlined the six pillars of his campaign: amnesty for illegal immigrants, reinstatement of the military draft, a promise to serve only a single presidential term, and calls for tax reform, deficit reduction, and corporate responsibility.   \n",
       "3  #23-5 He announced his candidacy this past March with a sixteen-page open letter in which he outlined the six pillars of his campaign: amnesty for illegal immigrants, reinstatement of the military draft, a promise to serve only a single presidential term, and calls for tax reform, deficit reduction, and corporate responsibility.   \n",
       "4                                                                                                                                                                                                 #7-12 These include a Boeing 737 en route to Iran, which crashed shortly after take-off in 2008, killing 68 of at least 90 people on board.   \n",
       "\n",
       "                    Annotation  \n",
       "0                      not MWE  \n",
       "1                      not MWE  \n",
       "2  not MWE but contains MWE(s)  \n",
       "3                      not MWE  \n",
       "4  not MWE but contains MWE(s)  "
      ]
     },
     "execution_count": 9,
     "metadata": {},
     "output_type": "execute_result"
    }
   ],
   "source": [
    "import pandas as pd\n",
    "\n",
    "# show the full text\n",
    "pd.set_option(\"display.max_colwidth\", None)\n",
    "\n",
    "# load the MWE-CWI dataset\n",
    "with open(\"../data/external/mwe-cwi.tsv\", \"r\", encoding=\"utf-8\") as file:\n",
    "    mwe_cwi = pd.read_csv(file, sep=\"\\t\")\n",
    "# keep the columns Index, Expression, Context, Annotation\n",
    "mwe_cwi = mwe_cwi[[\"Index\", \"Expression\", \"Context\", \"Annotation\"]]\n",
    "# total number of items\n",
    "print(f\"Total number of items in the MWE-CWI dataset: {len(mwe_cwi)}\")\n",
    "# show the first 5 items\n",
    "mwe_cwi.head(5)"
   ]
  },
  {
   "cell_type": "markdown",
   "metadata": {},
   "source": [
    "*We're gonna do some sanity tests here:*"
   ]
  },
  {
   "cell_type": "code",
   "execution_count": 10,
   "metadata": {},
   "outputs": [
    {
     "name": "stdout",
     "output_type": "stream",
     "text": [
      "Number of items with missing closing pairs: 7\n",
      "Number of items where Expression doesn't appear in Context: 0\n",
      "Number of items where Expression ends with punctuation: 0\n",
      "Number of items where Expression contains , and Annotation is 'not MWE but contains MWE (s)': 0\n"
     ]
    }
   ],
   "source": [
    "# check if Expression contains [ or ( or { or \" without a closing pair\n",
    "# if so, check if the closing pair is in the Context, i.e. Context = beginning + Expression + ending, and ending[0] = closing pair\n",
    "# then add the closing pair to the Expression\n",
    "def add_closing_pair(expression, context):\n",
    "    flag = False\n",
    "    beginning = context.split(expression)[0]\n",
    "    ending = context.split(expression)[1]\n",
    "    if \"[\" in expression and \"]\" not in expression:\n",
    "        if ending[0] == \"]\":\n",
    "            expression += \"]\"\n",
    "            flag = True\n",
    "    if \"(\" in expression and \")\" not in expression:\n",
    "        if ending[0] == \")\":\n",
    "            expression += \")\"\n",
    "            flag = True\n",
    "    if \"{\" in expression and \"}\" not in expression:\n",
    "        if ending[0] == \"}\":\n",
    "            expression += \"}\"\n",
    "            flag = True\n",
    "    if '\"' in expression and '\"' not in expression:\n",
    "        if ending[0] == '\"':\n",
    "            expression += '\"'\n",
    "            flag = True\n",
    "\n",
    "    return expression, flag\n",
    "\n",
    "# apply the function to the MWE-CWI dataset\n",
    "flagged_items = []\n",
    "for idx, row in mwe_cwi.iterrows():\n",
    "    expression, flag = add_closing_pair(row[\"Expression\"], row[\"Context\"])\n",
    "    if flag:\n",
    "        flagged_items.append(idx)\n",
    "        mwe_cwi.at[idx, \"Expression\"] = expression\n",
    "\n",
    "print(f\"Number of items with missing closing pairs: {len(flagged_items)}\")\n",
    "\n",
    "# check if Expression always appears in Context\n",
    "flagged_items = []\n",
    "for idx, row in mwe_cwi.iterrows():\n",
    "    if row[\"Expression\"] not in row[\"Context\"]:\n",
    "        flagged_items.append(idx)\n",
    "\n",
    "print(f\"Number of items where Expression doesn't appear in Context: {len(flagged_items)}\")\n",
    "\n",
    "# check if Expressions end with punctuation: . or , or ; or : or ! or ?\n",
    "flagged_items = []\n",
    "for idx, row in mwe_cwi.iterrows():\n",
    "    if row[\"Expression\"].endswith((\".\", \",\", \";\", \":\", \"!\", \"?\")):\n",
    "        flagged_items.append(idx)\n",
    "\n",
    "print(f\"Number of items where Expression ends with punctuation: {len(flagged_items)}\")\n",
    "\n",
    "# check how many Expressions contain , and have \"Annotations\" as \"not MWE but contains MWE (s)\"\n",
    "flagged_items = []\n",
    "for idx, row in mwe_cwi.iterrows():\n",
    "    if \",\" in row[\"Expression\"] and row[\"Annotation\"] == \"not MWE but contains MWE (s)\":\n",
    "        flagged_items.append(idx)\n",
    "\n",
    "print(f\"Number of items where Expression contains , and Annotation is 'not MWE but contains MWE (s)': {len(flagged_items)}\")"
   ]
  },
  {
   "cell_type": "code",
   "execution_count": 11,
   "metadata": {},
   "outputs": [
    {
     "name": "stdout",
     "output_type": "stream",
     "text": [
      "The unique annotations are: ['not MWE', 'not MWE but contains MWE(s)', 'MW compounds', 'MW named entities', 'fixed phrase', 'PP modifier', 'verb-particle or other phrasal verb', 'semi-fixedVP', 'conjunction/connective', 'verb-preposition', 'coordinated phrase', 'verb-noun(-preposition)', 'support verb']\n",
      "The unique annotations after conversion are: ['not MWE', 'not MWE but contains MWE', 'MWE']\n"
     ]
    }
   ],
   "source": [
    "# unique Annotations\n",
    "print(f\"The unique annotations are: {list(mwe_cwi[\"Annotation\"].unique())}\")\n",
    "# we're gonna convert the annotations to:\n",
    "\"\"\"\n",
    "not MWE -> not MWE\n",
    "not MWE but contains MWE(s) -> not MWE but contains MWE\n",
    "everything else -> MWE\n",
    "\"\"\"\n",
    "mwe_cwi[\"Annotation\"] = mwe_cwi[\"Annotation\"].apply(lambda x: \"not MWE\" if x == \"not MWE\" else \"not MWE but contains MWE\" if x == \"not MWE but contains MWE(s)\" else \"MWE\")\n",
    "# unique Annotations after conversion\n",
    "print(f\"The unique annotations after conversion are: {list(mwe_cwi['Annotation'].unique())}\")"
   ]
  },
  {
   "cell_type": "code",
   "execution_count": 12,
   "metadata": {},
   "outputs": [
    {
     "name": "stdout",
     "output_type": "stream",
     "text": [
      "Annotation distribution: {'not MWE': 2181, 'MWE': 2115, 'not MWE but contains MWE': 436}\n",
      "Number of unique Expressions: 1636\n",
      "Number of 'not MWE but contains MWE' annotations which contain MWEs from the unique Expressions: 0\n"
     ]
    }
   ],
   "source": [
    "# distribution of annotations\n",
    "annotations = mwe_cwi[\"Annotation\"].value_counts()\n",
    "# convert to dictionary\n",
    "annotations = annotations.to_dict()\n",
    "print(f\"Annotation distribution: {annotations}\")\n",
    "# number of unique Expressions if annotations are MWE\n",
    "unique_mwes = mwe_cwi[mwe_cwi['Annotation'] == 'MWE']['Expression'].unique()\n",
    "print(f\"Number of unique Expressions: {len(unique_mwes)}\")\n",
    "# number of 'not MWE but contains MWE' annotations which contain MWEs from the unique_mwes\n",
    "not_mwe_but_contains_mwe = mwe_cwi[mwe_cwi['Annotation'] == 'not MWE but contains MWE']['Expression']\n",
    "not_mwe_but_contains_mwe = not_mwe_but_contains_mwe[not_mwe_but_contains_mwe.isin(unique_mwes)]\n",
    "print(f\"Number of 'not MWE but contains MWE' annotations which contain MWEs from the unique Expressions: {len(not_mwe_but_contains_mwe)}\")"
   ]
  },
  {
   "cell_type": "code",
   "execution_count": 13,
   "metadata": {},
   "outputs": [
    {
     "name": "stdout",
     "output_type": "stream",
     "text": [
      "Number of unique MWEs in the MWE-CWI dataset that are also in the parseme1.3 English subset: 13\n",
      "Number of unique MWEs in the MWE-CWI dataset that are not in the parseme1.3 English subset: 1623\n",
      "Number of unique MWEs in the parseme1.3 English subset that are not in the MWE-CWI dataset: 779\n"
     ]
    }
   ],
   "source": [
    "# check how many unique mwes from the MWE-CWI dataset are in the parseme1.3 english: overlap between unique_mwes and unique_english_mwes\n",
    "overlap = set(unique_mwes) & set(unique_english_mwes)\n",
    "print(f\"Number of unique MWEs in the MWE-CWI dataset that are also in the parseme1.3 English subset: {len(overlap)}\")\n",
    "# number of unique mwes in the MWE-CWI dataset that are not in the parseme1.3 english subset\n",
    "unique_mwes_mwe_cwi = set(unique_mwes) - set(unique_english_mwes)\n",
    "print(f\"Number of unique MWEs in the MWE-CWI dataset that are not in the parseme1.3 English subset: {len(unique_mwes_mwe_cwi)}\")\n",
    "# number of unique mwes in the parseme1.3 english subset that are not in the MWE-CWI dataset\n",
    "unique_english_mwes_parseme = set(unique_english_mwes) - set(unique_mwes)\n",
    "print(f\"Number of unique MWEs in the parseme1.3 English subset that are not in the MWE-CWI dataset: {len(unique_english_mwes_parseme)}\")"
   ]
  },
  {
   "cell_type": "code",
   "execution_count": 14,
   "metadata": {},
   "outputs": [
    {
     "name": "stdout",
     "output_type": "stream",
     "text": [
      "Number of duplicate sentences in the MWE-CWI dataset: 4052\n",
      "\n",
      "Distribution of annotations in duplicate sentences:\n",
      "MWE: 176\n",
      "not MWE: 217\n",
      "not MWE but contains MWE: 2\n",
      "MWE and not MWE: 541\n",
      "MWE and not MWE but contains MWE: 116\n",
      "not MWE and not MWE but contains MWE: 33\n",
      "MWE and not MWE and not MWE but contains MWE: 170\n"
     ]
    }
   ],
   "source": [
    "# find the unique items\n",
    "unique_items = mwe_cwi[\"Context\"].unique()\n",
    "# find the duplicates\n",
    "duplicates = mwe_cwi[mwe_cwi[\"Context\"].duplicated(keep=False)]\n",
    "# find the unique duplicates\n",
    "unique_duplicates = duplicates[\"Context\"].unique()\n",
    "# find all items from the original dataset that match the unique duplicates' contexts\n",
    "duplicates = mwe_cwi[mwe_cwi[\"Context\"].isin(unique_duplicates)]\n",
    "print(f\"Number of duplicate sentences in the MWE-CWI dataset: {len(duplicates)}\")\n",
    "# check the distribution of the \"MWE\" vs \"Not MWE\" vs \"Not MWE but contains MWE\" vs \"MWE\" and \"not MWE\" vs \"MWE\" and \"not MWE but contains MWE\" vs \"not MWE\" and \"not MWE but contains MWE\" vs \"MWE\" and \"not MWE\" and \"not MWE but contains MWE\"\n",
    "distribution = {'MWE': 0,\n",
    "                'not MWE': 0,\n",
    "                'not MWE but contains MWE': 0,\n",
    "                'MWE and not MWE': 0,\n",
    "                'MWE and not MWE but contains MWE': 0,\n",
    "                'not MWE and not MWE but contains MWE': 0,\n",
    "                'MWE and not MWE and not MWE but contains MWE': 0}\n",
    "\n",
    "for context in unique_duplicates:\n",
    "    # Get all rows with this context\n",
    "    context_rows = duplicates[duplicates['Context'] == context]\n",
    "    annotations = sorted(context_rows['Annotation'].unique())\n",
    "    \n",
    "    if len(annotations) == 1:\n",
    "        # If only one type of annotation\n",
    "        if annotations[0] == 'MWE':\n",
    "            distribution['MWE'] += 1\n",
    "        elif annotations[0] == 'not MWE':\n",
    "            distribution['not MWE'] += 1\n",
    "        elif annotations[0] == 'not MWE but contains MWE':\n",
    "            distribution['not MWE but contains MWE'] += 1\n",
    "    elif len(annotations) == 2:\n",
    "        # If two types of annotations\n",
    "        if 'MWE' in annotations and 'not MWE' in annotations:\n",
    "            distribution['MWE and not MWE'] += 1\n",
    "        elif 'MWE' in annotations and 'not MWE but contains MWE' in annotations:\n",
    "            distribution['MWE and not MWE but contains MWE'] += 1\n",
    "        elif 'not MWE' in annotations and 'not MWE but contains MWE' in annotations:\n",
    "            distribution['not MWE and not MWE but contains MWE'] += 1\n",
    "    elif len(annotations) == 3:\n",
    "        # If all three types of annotations\n",
    "        distribution['MWE and not MWE and not MWE but contains MWE'] += 1\n",
    "\n",
    "print()\n",
    "print(\"Distribution of annotations in duplicate sentences:\")\n",
    "# Print the distribution\n",
    "for key, value in distribution.items():\n",
    "    print(f\"{key}: {value}\")"
   ]
  },
  {
   "cell_type": "code",
   "execution_count": 15,
   "metadata": {},
   "outputs": [
    {
     "data": {
      "text/html": [
       "<div>\n",
       "<style scoped>\n",
       "    .dataframe tbody tr th:only-of-type {\n",
       "        vertical-align: middle;\n",
       "    }\n",
       "\n",
       "    .dataframe tbody tr th {\n",
       "        vertical-align: top;\n",
       "    }\n",
       "\n",
       "    .dataframe thead th {\n",
       "        text-align: right;\n",
       "    }\n",
       "</style>\n",
       "<table border=\"1\" class=\"dataframe\">\n",
       "  <thead>\n",
       "    <tr style=\"text-align: right;\">\n",
       "      <th></th>\n",
       "      <th>Index</th>\n",
       "      <th>Expression</th>\n",
       "      <th>Context</th>\n",
       "      <th>Annotation</th>\n",
       "    </tr>\n",
       "  </thead>\n",
       "  <tbody>\n",
       "    <tr>\n",
       "      <th>0</th>\n",
       "      <td>0</td>\n",
       "      <td>suspicion of assisting an offender</td>\n",
       "      <td>A man and woman, both aged 28, arrested on suspicion of assisting an offender were released, without charge, on Saturday evening.</td>\n",
       "      <td>not MWE</td>\n",
       "    </tr>\n",
       "    <tr>\n",
       "      <th>1</th>\n",
       "      <td>1</td>\n",
       "      <td>authorities should annul the</td>\n",
       "      <td>Russian authorities should annul the parliamentary vote results and hold a new election, ex-Soviet leader Mikhail Gorbachev urged Wednesday as popular indignation grew over widespread reports of alleged election fraud.</td>\n",
       "      <td>not MWE</td>\n",
       "    </tr>\n",
       "    <tr>\n",
       "      <th>2</th>\n",
       "      <td>2</td>\n",
       "      <td>amnesty for illegal immigrants</td>\n",
       "      <td>#23-5 He announced his candidacy this past March with a sixteen-page open letter in which he outlined the six pillars of his campaign: amnesty for illegal immigrants, reinstatement of the military draft, a promise to serve only a single presidential term, and calls for tax reform, deficit reduction, and corporate responsibility.</td>\n",
       "      <td>not MWE but contains MWE</td>\n",
       "    </tr>\n",
       "    <tr>\n",
       "      <th>3</th>\n",
       "      <td>3</td>\n",
       "      <td>reinstatement of the military draft</td>\n",
       "      <td>#23-5 He announced his candidacy this past March with a sixteen-page open letter in which he outlined the six pillars of his campaign: amnesty for illegal immigrants, reinstatement of the military draft, a promise to serve only a single presidential term, and calls for tax reform, deficit reduction, and corporate responsibility.</td>\n",
       "      <td>not MWE</td>\n",
       "    </tr>\n",
       "    <tr>\n",
       "      <th>4</th>\n",
       "      <td>4</td>\n",
       "      <td>people on board</td>\n",
       "      <td>#7-12 These include a Boeing 737 en route to Iran, which crashed shortly after take-off in 2008, killing 68 of at least 90 people on board.</td>\n",
       "      <td>not MWE but contains MWE</td>\n",
       "    </tr>\n",
       "  </tbody>\n",
       "</table>\n",
       "</div>"
      ],
      "text/plain": [
       "   Index                           Expression  \\\n",
       "0      0   suspicion of assisting an offender   \n",
       "1      1         authorities should annul the   \n",
       "2      2       amnesty for illegal immigrants   \n",
       "3      3  reinstatement of the military draft   \n",
       "4      4                      people on board   \n",
       "\n",
       "                                                                                                                                                                                                                                                                                                                                      Context  \\\n",
       "0                                                                                                                                                                                                           A man and woman, both aged 28, arrested on suspicion of assisting an offender were released, without charge, on Saturday evening.   \n",
       "1                                                                                                                  Russian authorities should annul the parliamentary vote results and hold a new election, ex-Soviet leader Mikhail Gorbachev urged Wednesday as popular indignation grew over widespread reports of alleged election fraud.   \n",
       "2  #23-5 He announced his candidacy this past March with a sixteen-page open letter in which he outlined the six pillars of his campaign: amnesty for illegal immigrants, reinstatement of the military draft, a promise to serve only a single presidential term, and calls for tax reform, deficit reduction, and corporate responsibility.   \n",
       "3  #23-5 He announced his candidacy this past March with a sixteen-page open letter in which he outlined the six pillars of his campaign: amnesty for illegal immigrants, reinstatement of the military draft, a promise to serve only a single presidential term, and calls for tax reform, deficit reduction, and corporate responsibility.   \n",
       "4                                                                                                                                                                                                 #7-12 These include a Boeing 737 en route to Iran, which crashed shortly after take-off in 2008, killing 68 of at least 90 people on board.   \n",
       "\n",
       "                 Annotation  \n",
       "0                   not MWE  \n",
       "1                   not MWE  \n",
       "2  not MWE but contains MWE  \n",
       "3                   not MWE  \n",
       "4  not MWE but contains MWE  "
      ]
     },
     "execution_count": 15,
     "metadata": {},
     "output_type": "execute_result"
    }
   ],
   "source": [
    "mwe_cwi.head(5)"
   ]
  },
  {
   "cell_type": "code",
   "execution_count": 16,
   "metadata": {},
   "outputs": [],
   "source": [
    "# convert the MWE-CWI dataset to a json format\n",
    "dataset = []\n",
    "for idx, row in mwe_cwi.iterrows():\n",
    "    dataset.append({\"text\": row[\"Context\"], \"expression\": row[\"Expression\"], \"annotation\": row[\"Annotation\"], \"language\": \"EN\", \"source\": \"mwe-cwi\"})\n",
    "\n",
    "# save the MWE-CWI dataset to a JSON file\n",
    "with open(\"../data/external/mwe-cwi_english.json\", \"w\", encoding=\"utf-8\") as file:\n",
    "    json.dump(dataset, file, indent=4, ensure_ascii=False)"
   ]
  },
  {
   "cell_type": "markdown",
   "metadata": {},
   "source": [
    "****\n",
    "**[Streusle](https://aclanthology.org/2021.mwe-1.6.pdf)**\n",
    "****"
   ]
  },
  {
   "cell_type": "code",
   "execution_count": 18,
   "metadata": {},
   "outputs": [
    {
     "name": "stdout",
     "output_type": "stream",
     "text": [
      "Dataset converted successfully!\n"
     ]
    }
   ],
   "source": [
    "import json\n",
    "\n",
    "# Helper function to extract SMWEs and WMWEs from an MWE field\n",
    "def extract_mwes(mwe):\n",
    "    smwes = []\n",
    "    wmwes = []\n",
    "\n",
    "    # Extract words and their indices\n",
    "    words = mwe.split()\n",
    "    smwe_candidates = []\n",
    "    wmwe_candidates = []\n",
    "\n",
    "    for word in words:\n",
    "        # Handle SMWE cases\n",
    "        if \"_\" in word:\n",
    "            smwe_candidates.append(word.replace(\"_\", \" \"))\n",
    "        else:\n",
    "            if smwe_candidates:\n",
    "                smwes.append(\" \".join(smwe_candidates))\n",
    "                smwe_candidates = []\n",
    "\n",
    "        # Handle WMWEs cases\n",
    "        if \"~\" in word:\n",
    "            wmwe_candidates.append(word.replace(\"~\", \" \"))\n",
    "        else:\n",
    "            if wmwe_candidates:\n",
    "                wmwes.append(\" \".join(wmwe_candidates))\n",
    "                wmwe_candidates = []\n",
    "\n",
    "    # Append any remaining candidates\n",
    "    if smwe_candidates:\n",
    "        smwes.append(\" \".join(smwe_candidates))\n",
    "    if wmwe_candidates:\n",
    "        wmwes.append(\" \".join(wmwe_candidates))\n",
    "\n",
    "    return smwes, wmwes\n",
    "\n",
    "# Load the data\n",
    "with open(\"../data/external/streusle.json\", \"r\", encoding=\"utf-8\") as file:\n",
    "    streusle = json.load(file)\n",
    "\n",
    "# Convert the dataset\n",
    "converted_streusle = []\n",
    "for item in streusle:\n",
    "    text = item.get(\"text\", \"\")\n",
    "    mwe = item.get(\"mwe\", \"\")\n",
    "    smwes, wmwes = extract_mwes(mwe)\n",
    "\n",
    "    converted_streusle.append({\n",
    "        \"text\": text,\n",
    "        \"smwes\": smwes,\n",
    "        \"wmwes\": wmwes\n",
    "    })\n",
    "\n",
    "# Save the converted dataset\n",
    "with open(\"../data/external/streusle_english.json\", \"w\", encoding=\"utf-8\") as file:\n",
    "    json.dump(converted_streusle, file, indent=4, ensure_ascii=False)\n",
    "\n",
    "print(\"Dataset converted successfully!\")"
   ]
  },
  {
   "cell_type": "code",
   "execution_count": 20,
   "metadata": {},
   "outputs": [
    {
     "name": "stdout",
     "output_type": "stream",
     "text": [
      "Total number of SMWEs in the Streusle dataset: 3234\n",
      "Number of SMWEs that don't occur as a continuous span of tokens: 298\n",
      "\n",
      "Total number of WMWEs in the Streusle dataset: 846\n",
      "Number of WMWEs that don't occur as a continuous span of tokens: 138\n"
     ]
    }
   ],
   "source": [
    "# check how many times the SMWEs and WMWEs appear contiguously in the text\n",
    "def check_contiguity(text, mwes):\n",
    "    non_contiguous = 0\n",
    "    for mwe in mwes:\n",
    "        if mwe not in text:\n",
    "            non_contiguous += 1\n",
    "    return non_contiguous\n",
    "\n",
    "# load the Streusle dataset\n",
    "with open(\"../data/external/streusle_english.json\", \"r\", encoding=\"utf-8\") as file:\n",
    "    streusle = json.load(file)\n",
    "\n",
    "# check the contiguity of SMWEs and WMWEs in the Streusle dataset\n",
    "non_contiguous_smwes = 0\n",
    "non_contiguous_wmwes = 0\n",
    "for item in streusle:\n",
    "    non_contiguous_smwes += check_contiguity(item[\"text\"], item[\"smwes\"])\n",
    "    non_contiguous_wmwes += check_contiguity(item[\"text\"], item[\"wmwes\"])\n",
    "\n",
    "print(f\"Total number of SMWEs in the Streusle dataset: {sum(len(item['smwes']) for item in streusle)}\")\n",
    "print(f\"Number of SMWEs that don't occur as a continuous span of tokens: {non_contiguous_smwes}\")\n",
    "print()\n",
    "print(f\"Total number of WMWEs in the Streusle dataset: {sum(len(item['wmwes']) for item in streusle)}\")\n",
    "print(f\"Number of WMWEs that don't occur as a continuous span of tokens: {non_contiguous_wmwes}\")"
   ]
  },
  {
   "cell_type": "markdown",
   "metadata": {},
   "source": [
    "****\n",
    "**[EPIE Corpus](https://arxiv.org/abs/2006.09479)**\n",
    "****"
   ]
  },
  {
   "cell_type": "code",
   "execution_count": null,
   "metadata": {},
   "outputs": [],
   "source": []
  },
  {
   "cell_type": "markdown",
   "metadata": {},
   "source": [
    "****\n",
    "**Combine the datasets and store them in a single file:**\n",
    "****"
   ]
  },
  {
   "cell_type": "code",
   "execution_count": null,
   "metadata": {},
   "outputs": [],
   "source": [
    "# store the combined dataset to a file called \"../data/corpus/existing_mwes.json\""
   ]
  },
  {
   "cell_type": "markdown",
   "metadata": {},
   "source": [
    "****\n",
    "**Joint Statistics:**\n",
    "****"
   ]
  },
  {
   "cell_type": "code",
   "execution_count": 22,
   "metadata": {},
   "outputs": [
    {
     "name": "stdout",
     "output_type": "stream",
     "text": [
      "Number of unique MWEs in the parseme1.3 English subset: 792\n",
      "Number of unique MWEs in the MWE-CWI dataset: 3900\n",
      "Number of unique MWEs in the Streusle dataset: 2802\n"
     ]
    }
   ],
   "source": [
    "import json\n",
    "\n",
    "# load the parseme1.3 English subset\n",
    "with open(\"../data/external/parseme1.3_english.json\", \"r\", encoding=\"utf-8\") as file:\n",
    "    parseme1_3 = json.load(file)\n",
    "\n",
    "# load the MWE-CWI dataset\n",
    "with open(\"../data/external/mwe-cwi_english.json\", \"r\", encoding=\"utf-8\") as file:\n",
    "    mwe_cwi = json.load(file)\n",
    "\n",
    "# load the Streusle dataset\n",
    "with open(\"../data/external/streusle_english.json\", \"r\", encoding=\"utf-8\") as file:\n",
    "    streusle = json.load(file)\n",
    "\n",
    "# extract the unique MWEs from the parseme1.3 English subset\n",
    "unique_parseme1_3 = set(item[\"mwe\"] for item in parseme1_3)\n",
    "print(f\"Number of unique MWEs in the parseme1.3 English subset: {len(unique_parseme1_3)}\")\n",
    "\n",
    "# extract the unique MWEs from the MWE-CWI dataset\n",
    "unique_mwes_mwe_cwi = set(item[\"expression\"] for item in mwe_cwi)\n",
    "print(f\"Number of unique MWEs in the MWE-CWI dataset: {len(unique_mwes_mwe_cwi)}\")\n",
    "\n",
    "# extract the unique SMWEs and WMWEs from the Streusle dataset\n",
    "unique_smwes = set(mwe for item in streusle for mwe in item[\"smwes\"])\n",
    "unique_wmwes = set(mwe for item in streusle for mwe in item[\"wmwes\"])\n",
    "unique_mwe_streusle = unique_smwes | unique_wmwes\n",
    "print(f\"Number of unique MWEs in the Streusle dataset: {len(unique_mwe_streusle)}\")"
   ]
  },
  {
   "cell_type": "code",
   "execution_count": 23,
   "metadata": {},
   "outputs": [
    {
     "data": {
      "image/png": "[encoded data removed]",
      "text/plain": [
       "<Figure size 800x600 with 1 Axes>"
      ]
     },
     "metadata": {},
     "output_type": "display_data"
    }
   ],
   "source": [
    "from matplotlib_venn import venn3\n",
    "import matplotlib.pyplot as plt\n",
    "\n",
    "def show_mwe_overlaps(parseme1_3, mwes_mwe_cwi, mwe_streusle):\n",
    "    \"\"\"\n",
    "    Plots a Venn diagram showing the overlap between the unique MWEs \n",
    "    in the Parseme 1.3, MWE-CMI, and Streusle datasets.\n",
    "    \n",
    "    Args:\n",
    "    - parseme1_3: Set of unique MWEs from the Parseme 1.3 dataset.\n",
    "    - mwes_mwe_cwi: Set of unique MWEs from the MWE-CMI dataset.\n",
    "    - mwe_streusle: Set of unique MWEs from the Streusle dataset.\n",
    "    \"\"\"\n",
    "    # Ensure the inputs are sets\n",
    "    set_parseme1_3 = set(parseme1_3)\n",
    "    set_mwes_mwe_cwi = set(mwes_mwe_cwi)\n",
    "    set_mwe_streusle = set(mwe_streusle)\n",
    "    \n",
    "    # Create the Venn diagram\n",
    "    plt.figure(figsize=(8, 6))\n",
    "    venn = venn3([set_parseme1_3, set_mwes_mwe_cwi, set_mwe_streusle], \n",
    "                 ('Parseme 1.3', 'MWE-CMI', 'Streusle'))\n",
    "    \n",
    "    # Customize the diagram (optional)\n",
    "    plt.title(\"Overlap Between Unique MWEs in Parseme 1.3, MWE-CMI, and Streusle\")\n",
    "    plt.show()\n",
    "\n",
    "# Example Usage\n",
    "show_mwe_overlaps(unique_parseme1_3, unique_mwes_mwe_cwi, unique_mwe_streusle)"
   ]
  },
  {
   "cell_type": "code",
   "execution_count": 24,
   "metadata": {},
   "outputs": [
    {
     "name": "stdout",
     "output_type": "stream",
     "text": [
      "Average length of MWEs in the Parseme 1.3 dataset: 2.91, where the minimum length is 2 and the maximum length is 6\n",
      "Average length of MWEs in the MWE-CWI dataset: 2.51, where the minimum length is 2 and the maximum length is 5\n",
      "Average length of MWEs in the Streusle dataset: 2.27, where the minimum length is 1 and the maximum length is 5\n"
     ]
    }
   ],
   "source": [
    "# average length of MWEs in the datasets\n",
    "def average_mwe_length(mwes):\n",
    "    total_length = sum(len(mwe.split()) for mwe in mwes)\n",
    "    return round(total_length / len(mwes), 2)\n",
    "\n",
    "# min and max length of MWEs in the datasets excluding edge cases\n",
    "def min_max_mwe_length(mwes):\n",
    "    lengths = [len(mwe.split()) for mwe in mwes]\n",
    "    # drop the top and bottom 5% of the lengths\n",
    "    lengths = sorted(lengths)[round(len(lengths) * 0.02):-round(len(lengths) * 0.02)]\n",
    "    return min(lengths), max(lengths)\n",
    "\n",
    "# calculate the average length of MWEs in the datasets\n",
    "average_parseme1_3 = average_mwe_length(unique_parseme1_3)\n",
    "min_parseme1_3, max_parseme1_3 = min_max_mwe_length(unique_parseme1_3)\n",
    "print(f\"Average length of MWEs in the Parseme 1.3 dataset: {average_parseme1_3}, where the minimum length is {min_parseme1_3} and the maximum length is {max_parseme1_3}\")\n",
    "average_mwe_cwi = average_mwe_length(unique_mwes_mwe_cwi)\n",
    "min_mwe_cwi, max_mwe_cwi = min_max_mwe_length(unique_mwes_mwe_cwi)\n",
    "print(f\"Average length of MWEs in the MWE-CWI dataset: {average_mwe_cwi}, where the minimum length is {min_mwe_cwi} and the maximum length is {max_mwe_cwi}\")\n",
    "average_streusle = average_mwe_length(unique_mwe_streusle)\n",
    "min_streusle, max_streusle = min_max_mwe_length(unique_mwe_streusle)\n",
    "print(f\"Average length of MWEs in the Streusle dataset: {average_streusle}, where the minimum length is {min_streusle} and the maximum length is {max_streusle}\")"
   ]
  },
  {
   "cell_type": "markdown",
   "metadata": {},
   "source": [
    "****\n",
    "**[NER Model:](https://huggingface.co/dslim/bert-base-NER)**\n",
    "<br>\n",
    "<br>\n",
    "*Was originally supposed to be this paper: [Automated Concatenation of Embeddings for Structured Prediction](https://github.com/Alibaba-NLP/ACE), but the this one from HuggingFace is a slight improvement on CoNLL 2003, and smaller by size. Easier to use off-the shelf!!*\n",
    "****"
   ]
  },
  {
   "cell_type": "code",
   "execution_count": 25,
   "metadata": {},
   "outputs": [
    {
     "name": "stdout",
     "output_type": "stream",
     "text": [
      "{'PER': ['Nishan'], 'LOC': ['Ljubljana', 'Slovenia', 'La Rochelle', 'France'], 'ORG': ['Institute Jožef Stefan'], 'MISC': []}\n",
      "\n",
      "{'PER': [], 'LOC': ['London'], 'ORG': ['Smith and Co.', 'Smith Co.'], 'MISC': []}\n"
     ]
    }
   ],
   "source": [
    "from transformers import pipeline\n",
    "import transformers\n",
    "\n",
    "# set the logging to error only\n",
    "transformers.logging.set_verbosity_error()\n",
    "\n",
    "# load the NER pipeline \n",
    "ner = pipeline(\"ner\", model=\"dslim/bert-base-NER\", tokenizer=\"dslim/bert-base-NER\")\n",
    "\n",
    "# function that converts the NER results to a list of entities from the BIO format\n",
    "def extract_entities(ner_results, text):\n",
    "    # Initialize the entities dictionary\n",
    "    entities = {\n",
    "        \"PER\": [],\n",
    "        \"LOC\": [],\n",
    "        \"ORG\": [],\n",
    "        \"MISC\": []\n",
    "    }\n",
    "    \n",
    "    # Group consecutive tokens with the same entity type\n",
    "    grouped_entities = []\n",
    "    current_group = None\n",
    "    \n",
    "    for item in ner_results:\n",
    "        # Extract the base entity type (remove B- or I-)\n",
    "        entity_type = item['entity'].split('-')[-1]\n",
    "        \n",
    "        # Check if this is a subword token\n",
    "        if item['word'].startswith('##'):\n",
    "            # If we have a current group and tokens, combine the last token with this subword\n",
    "            if current_group and current_group['tokens']:\n",
    "                # Pop the last token and remove '##' from the current token\n",
    "                last_token = current_group['tokens'].pop()\n",
    "                current_token = last_token + item['word'].lstrip('##')\n",
    "                current_group['tokens'].append(current_token)\n",
    "                \n",
    "                # Adjust the end index to the full combined token\n",
    "                current_group['ends'][-1] = item['end']\n",
    "            continue\n",
    "        \n",
    "        # Check if this is the start of a new entity or continuation of existing\n",
    "        if item['entity'].startswith('B-'):\n",
    "            # If there's a previous group, add it to the results\n",
    "            if current_group:\n",
    "                grouped_entities.append(current_group)\n",
    "            \n",
    "            # Start a new group\n",
    "            current_group = {\n",
    "                'type': entity_type,\n",
    "                'tokens': [item['word']],\n",
    "                'starts': [item['start']],\n",
    "                'ends': [item['end']]\n",
    "            }\n",
    "        elif item['entity'].startswith('I-') and current_group and current_group['type'] == entity_type:\n",
    "            # Continue the current group\n",
    "            current_group['tokens'].append(item['word'])\n",
    "            current_group['starts'].append(item['start'])\n",
    "            current_group['ends'].append(item['end'])\n",
    "        else:\n",
    "            # If current group exists and we're not continuing it, add it to results\n",
    "            if current_group:\n",
    "                grouped_entities.append(current_group)\n",
    "                current_group = None\n",
    "    \n",
    "    # Add the last group if it exists\n",
    "    if current_group:\n",
    "        grouped_entities.append(current_group)\n",
    "    \n",
    "    # Process the grouped entities\n",
    "    for group in grouped_entities:\n",
    "        # Reconstruct the entity using the original text\n",
    "        entity_start = group['starts'][0]\n",
    "        entity_end = group['ends'][-1]\n",
    "        \n",
    "        # Extract the entity string directly from the original text\n",
    "        entity_string = text[entity_start:entity_end]\n",
    "        \n",
    "        # Add to the appropriate entity list\n",
    "        if entity_string and group['type'] in entities:\n",
    "            entities[group['type']].append(entity_string)\n",
    "    \n",
    "    return entities\n",
    "\n",
    "# Test case 1\n",
    "sample1 = \"My name is Nishan and I live in Ljubljana, Slovenia. I work at Institute Jožef Stefan at present, and I'm soon moving to La Rochelle, France.\"\n",
    "print(extract_entities(ner(sample1), sample1))\n",
    "print()\n",
    "\n",
    "# Test case 2\n",
    "sample2 = \"Analysts at Smith and Co., based in London, predict strong growth for Smith Co.\"\n",
    "print(extract_entities(ner(sample2), sample2))"
   ]
  }
 ],
 "metadata": {
  "kernelspec": {
   "display_name": "emma",
   "language": "python",
   "name": "python3"
  },
  "language_info": {
   "codemirror_mode": {
    "name": "ipython",
    "version": 3
   },
   "file_extension": ".py",
   "mimetype": "text/x-python",
   "name": "python",
   "nbconvert_exporter": "python",
   "pygments_lexer": "ipython3",
   "version": "3.12.7"
  }
 },
 "nbformat": 4,
 "nbformat_minor": 2
}
